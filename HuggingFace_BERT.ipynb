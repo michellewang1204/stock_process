{
 "cells": [
  {
   "cell_type": "code",
   "execution_count": null,
   "metadata": {},
   "outputs": [],
   "source": [
    "import pandas as pd\n",
    "from transformers import BertTokenizer, BertForSequenceClassification, Trainer, TrainingArguments\n",
    "from datasets import Dataset\n",
    "import torch\n",
    "from datasets import load_dataset\n",
    "import warnings\n",
    "warnings.filterwarnings(\"ignore\")"
   ]
  },
  {
   "cell_type": "code",
   "execution_count": 2,
   "metadata": {},
   "outputs": [
    {
     "name": "stderr",
     "output_type": "stream",
     "text": [
      "Found cached dataset financial_phrasebank (C:/Users/miche/.cache/huggingface/datasets/takala___financial_phrasebank/sentences_allagree/1.0.0/550bde12e6c30e2674da973a55f57edde5181d53f5a5a34c1531c53f93b7e141)\n"
     ]
    },
    {
     "data": {
      "application/vnd.jupyter.widget-view+json": {
       "model_id": "8c5dc489e6cf4eca8d90c999f7e89808",
       "version_major": 2,
       "version_minor": 0
      },
      "text/plain": [
       "  0%|          | 0/1 [00:00<?, ?it/s]"
      ]
     },
     "metadata": {},
     "output_type": "display_data"
    },
    {
     "name": "stderr",
     "output_type": "stream",
     "text": [
      "Loading cached split indices for dataset at C:\\Users\\miche\\.cache\\huggingface\\datasets\\takala___financial_phrasebank\\sentences_allagree\\1.0.0\\550bde12e6c30e2674da973a55f57edde5181d53f5a5a34c1531c53f93b7e141\\cache-149e9ab1ee378ec4.arrow and C:\\Users\\miche\\.cache\\huggingface\\datasets\\takala___financial_phrasebank\\sentences_allagree\\1.0.0\\550bde12e6c30e2674da973a55f57edde5181d53f5a5a34c1531c53f93b7e141\\cache-e7b02ae1a3031edc.arrow\n"
     ]
    },
    {
     "name": "stdout",
     "output_type": "stream",
     "text": [
      "DatasetDict({\n",
      "    train: Dataset({\n",
      "        features: ['sentence', 'label'],\n",
      "        num_rows: 2264\n",
      "    })\n",
      "})\n"
     ]
    },
    {
     "name": "stderr",
     "output_type": "stream",
     "text": [
      "Loading cached processed dataset at C:\\Users\\miche\\.cache\\huggingface\\datasets\\takala___financial_phrasebank\\sentences_allagree\\1.0.0\\550bde12e6c30e2674da973a55f57edde5181d53f5a5a34c1531c53f93b7e141\\cache-b9cdef0daec75b53.arrow\n",
      "Loading cached processed dataset at C:\\Users\\miche\\.cache\\huggingface\\datasets\\takala___financial_phrasebank\\sentences_allagree\\1.0.0\\550bde12e6c30e2674da973a55f57edde5181d53f5a5a34c1531c53f93b7e141\\cache-574dd26729716385.arrow\n",
      "Some weights of the model checkpoint at bert-base-uncased were not used when initializing BertForSequenceClassification: ['cls.predictions.transform.LayerNorm.weight', 'cls.predictions.transform.dense.weight', 'cls.seq_relationship.bias', 'cls.predictions.transform.LayerNorm.bias', 'cls.predictions.bias', 'cls.predictions.transform.dense.bias', 'cls.seq_relationship.weight']\n",
      "- This IS expected if you are initializing BertForSequenceClassification from the checkpoint of a model trained on another task or with another architecture (e.g. initializing a BertForSequenceClassification model from a BertForPreTraining model).\n",
      "- This IS NOT expected if you are initializing BertForSequenceClassification from the checkpoint of a model that you expect to be exactly identical (initializing a BertForSequenceClassification model from a BertForSequenceClassification model).\n",
      "Some weights of BertForSequenceClassification were not initialized from the model checkpoint at bert-base-uncased and are newly initialized: ['classifier.bias', 'classifier.weight']\n",
      "You should probably TRAIN this model on a down-stream task to be able to use it for predictions and inference.\n",
      "c:\\Users\\miche\\anaconda3\\envs\\gpu_env\\lib\\site-packages\\transformers\\optimization.py:415: FutureWarning: This implementation of AdamW is deprecated and will be removed in a future version. Use the PyTorch implementation torch.optim.AdamW instead, or set `no_deprecation_warning=True` to disable this warning\n",
      "  FutureWarning,\n"
     ]
    },
    {
     "data": {
      "application/vnd.jupyter.widget-view+json": {
       "model_id": "931361610cba4ded8d466d90aca7cc94",
       "version_major": 2,
       "version_minor": 0
      },
      "text/plain": [
       "  0%|          | 0/342 [00:00<?, ?it/s]"
      ]
     },
     "metadata": {},
     "output_type": "display_data"
    },
    {
     "name": "stdout",
     "output_type": "stream",
     "text": [
      "{'loss': 0.9645, 'learning_rate': 1.9415204678362573e-05, 'epoch': 0.09}\n",
      "{'loss': 0.765, 'learning_rate': 1.8830409356725147e-05, 'epoch': 0.18}\n",
      "{'loss': 0.6619, 'learning_rate': 1.824561403508772e-05, 'epoch': 0.26}\n",
      "{'loss': 0.6352, 'learning_rate': 1.7660818713450293e-05, 'epoch': 0.35}\n",
      "{'loss': 0.5417, 'learning_rate': 1.7076023391812867e-05, 'epoch': 0.44}\n",
      "{'loss': 0.4724, 'learning_rate': 1.649122807017544e-05, 'epoch': 0.53}\n",
      "{'loss': 0.4122, 'learning_rate': 1.5906432748538013e-05, 'epoch': 0.61}\n",
      "{'loss': 0.3753, 'learning_rate': 1.5321637426900587e-05, 'epoch': 0.7}\n",
      "{'loss': 0.3414, 'learning_rate': 1.4736842105263159e-05, 'epoch': 0.79}\n",
      "{'loss': 0.2806, 'learning_rate': 1.4152046783625733e-05, 'epoch': 0.88}\n",
      "{'loss': 0.2142, 'learning_rate': 1.3567251461988304e-05, 'epoch': 0.96}\n"
     ]
    },
    {
     "data": {
      "application/vnd.jupyter.widget-view+json": {
       "model_id": "320ee696a5ea4805a47603d49ff14c9e",
       "version_major": 2,
       "version_minor": 0
      },
      "text/plain": [
       "  0%|          | 0/29 [00:00<?, ?it/s]"
      ]
     },
     "metadata": {},
     "output_type": "display_data"
    },
    {
     "name": "stdout",
     "output_type": "stream",
     "text": [
      "{'eval_loss': 0.2515396177768707, 'eval_runtime': 33.783, 'eval_samples_per_second': 13.409, 'eval_steps_per_second': 0.858, 'epoch': 1.0}\n",
      "{'loss': 0.1997, 'learning_rate': 1.2982456140350879e-05, 'epoch': 1.05}\n",
      "{'loss': 0.143, 'learning_rate': 1.239766081871345e-05, 'epoch': 1.14}\n",
      "{'loss': 0.0933, 'learning_rate': 1.1812865497076024e-05, 'epoch': 1.23}\n",
      "{'loss': 0.1517, 'learning_rate': 1.1228070175438597e-05, 'epoch': 1.32}\n",
      "{'loss': 0.0587, 'learning_rate': 1.0643274853801172e-05, 'epoch': 1.4}\n",
      "{'loss': 0.134, 'learning_rate': 1.0058479532163743e-05, 'epoch': 1.49}\n",
      "{'loss': 0.1667, 'learning_rate': 9.473684210526315e-06, 'epoch': 1.58}\n",
      "{'loss': 0.1041, 'learning_rate': 8.888888888888888e-06, 'epoch': 1.67}\n",
      "{'loss': 0.117, 'learning_rate': 8.304093567251463e-06, 'epoch': 1.75}\n",
      "{'loss': 0.0624, 'learning_rate': 7.719298245614036e-06, 'epoch': 1.84}\n",
      "{'loss': 0.0436, 'learning_rate': 7.134502923976608e-06, 'epoch': 1.93}\n"
     ]
    },
    {
     "data": {
      "application/vnd.jupyter.widget-view+json": {
       "model_id": "12be1523670047e7a293eb9151e72a70",
       "version_major": 2,
       "version_minor": 0
      },
      "text/plain": [
       "  0%|          | 0/29 [00:00<?, ?it/s]"
      ]
     },
     "metadata": {},
     "output_type": "display_data"
    },
    {
     "name": "stdout",
     "output_type": "stream",
     "text": [
      "{'eval_loss': 0.1892276406288147, 'eval_runtime': 30.9964, 'eval_samples_per_second': 14.615, 'eval_steps_per_second': 0.936, 'epoch': 2.0}\n",
      "{'loss': 0.0392, 'learning_rate': 6.549707602339181e-06, 'epoch': 2.02}\n",
      "{'loss': 0.0366, 'learning_rate': 5.964912280701755e-06, 'epoch': 2.11}\n",
      "{'loss': 0.0392, 'learning_rate': 5.380116959064328e-06, 'epoch': 2.19}\n",
      "{'loss': 0.0341, 'learning_rate': 4.7953216374269005e-06, 'epoch': 2.28}\n",
      "{'loss': 0.0538, 'learning_rate': 4.210526315789474e-06, 'epoch': 2.37}\n",
      "{'loss': 0.0218, 'learning_rate': 3.625730994152047e-06, 'epoch': 2.46}\n",
      "{'loss': 0.0454, 'learning_rate': 3.04093567251462e-06, 'epoch': 2.54}\n",
      "{'loss': 0.0645, 'learning_rate': 2.456140350877193e-06, 'epoch': 2.63}\n",
      "{'loss': 0.0374, 'learning_rate': 1.8713450292397662e-06, 'epoch': 2.72}\n",
      "{'loss': 0.0679, 'learning_rate': 1.2865497076023392e-06, 'epoch': 2.81}\n",
      "{'loss': 0.0629, 'learning_rate': 7.017543859649123e-07, 'epoch': 2.89}\n",
      "{'loss': 0.0115, 'learning_rate': 1.1695906432748539e-07, 'epoch': 2.98}\n"
     ]
    },
    {
     "data": {
      "application/vnd.jupyter.widget-view+json": {
       "model_id": "1a2bae32b4354fe9948290d16b40b68c",
       "version_major": 2,
       "version_minor": 0
      },
      "text/plain": [
       "  0%|          | 0/29 [00:00<?, ?it/s]"
      ]
     },
     "metadata": {},
     "output_type": "display_data"
    },
    {
     "name": "stdout",
     "output_type": "stream",
     "text": [
      "{'eval_loss': 0.16409093141555786, 'eval_runtime': 32.9371, 'eval_samples_per_second': 13.754, 'eval_steps_per_second': 0.88, 'epoch': 3.0}\n",
      "{'train_runtime': 1358.0614, 'train_samples_per_second': 4.001, 'train_steps_per_second': 0.252, 'train_loss': 0.21798429997060556, 'epoch': 3.0}\n",
      "模型訓練完成，已保存至 ./sentiment_model\n"
     ]
    }
   ],
   "source": [
    "from datasets import load_dataset\n",
    "from transformers import BertTokenizer, BertForSequenceClassification, Trainer, TrainingArguments\n",
    "import torch\n",
    "\n",
    "# 1. 載入 Financial PhraseBank 資料集\n",
    "dataset = load_dataset(\"takala/financial_phrasebank\", \"sentences_allagree\")\n",
    "\n",
    "# 檢查資料結構\n",
    "print(dataset)\n",
    "\n",
    "# 分割資料集為訓練集和測試集\n",
    "dataset = dataset[\"train\"].train_test_split(test_size=0.2, seed=42)\n",
    "train_dataset = dataset[\"train\"]\n",
    "test_dataset = dataset[\"test\"]\n",
    "\n",
    "# 2. 載入 BERT Tokenizer\n",
    "model_name = \"bert-base-uncased\"  # 或 \"ProsusAI/finbert\"（適合金融領域）\n",
    "tokenizer = BertTokenizer.from_pretrained(model_name)\n",
    "\n",
    "# Tokenize 資料\n",
    "def tokenize_function(examples):\n",
    "    return tokenizer(examples['sentence'], truncation=True, padding=\"max_length\", max_length=128)\n",
    "\n",
    "train_dataset = train_dataset.map(tokenize_function, batched=True)\n",
    "test_dataset = test_dataset.map(tokenize_function, batched=True)\n",
    "\n",
    "# 移除多餘欄位\n",
    "train_dataset = train_dataset.remove_columns([\"sentence\"])\n",
    "test_dataset = test_dataset.remove_columns([\"sentence\"])\n",
    "\n",
    "# 設定格式為 PyTorch tensors\n",
    "train_dataset.set_format(\"torch\")\n",
    "test_dataset.set_format(\"torch\")\n",
    "\n",
    "# 3. 載入預訓練的 BERT 模型\n",
    "model = BertForSequenceClassification.from_pretrained(model_name, num_labels=3)\n",
    "\n",
    "# 4. 訓練參數設定\n",
    "training_args = TrainingArguments(\n",
    "    output_dir=\"./results\",\n",
    "    evaluation_strategy=\"epoch\",    # 每個 epoch 評估一次\n",
    "    save_strategy=\"epoch\",          # 每個 epoch 保存模型\n",
    "    learning_rate=2e-5,\n",
    "    per_device_train_batch_size=16,\n",
    "    per_device_eval_batch_size=16,\n",
    "    num_train_epochs=3,\n",
    "    weight_decay=0.01,\n",
    "    logging_dir=\"./logs\",\n",
    "    logging_steps=10,\n",
    "    load_best_model_at_end=True     # 訓練結束後載入最佳模型\n",
    ")\n",
    "\n",
    "\n",
    "# 5. 設定 Trainer\n",
    "trainer = Trainer(\n",
    "    model=model,\n",
    "    args=training_args,\n",
    "    train_dataset=train_dataset,\n",
    "    eval_dataset=test_dataset,\n",
    "    tokenizer=tokenizer,\n",
    ")\n",
    "\n",
    "# 6. 開始訓練\n",
    "trainer.train()\n",
    "\n",
    "# 7. 保存模型\n",
    "model.save_pretrained(\"./sentiment_model\")\n",
    "tokenizer.save_pretrained(\"./sentiment_model\")\n",
    "\n",
    "print(\"模型訓練完成，已保存至 ./sentiment_model\")\n"
   ]
  },
  {
   "cell_type": "code",
   "execution_count": 3,
   "metadata": {},
   "outputs": [
    {
     "name": "stdout",
     "output_type": "stream",
     "text": [
      "['Positive', 'Negative', 'Positive']\n"
     ]
    }
   ],
   "source": [
    "# 測試句子\n",
    "test_texts = [\n",
    "    \"The company's profit has increased significantly this quarter.\",  # Positive\n",
    "    \"The increase in costs negatively affected the revenue.\",          # Negative\n",
    "    \"The company's performance remained stable.\"                       # Neutral\n",
    "]\n",
    "\n",
    "# Tokenize 測試句子\n",
    "inputs = tokenizer(test_texts, return_tensors=\"pt\", truncation=True, padding=True, max_length=128)\n",
    "\n",
    "# 模型推論\n",
    "model.eval()\n",
    "with torch.no_grad():\n",
    "    outputs = model(**inputs)\n",
    "\n",
    "# 取得預測結果\n",
    "predictions = torch.argmax(outputs.logits, dim=1).numpy()\n",
    "\n",
    "# 標籤對應\n",
    "label_map = {0: \"Negative\", 1: \"Neutral\", 2: \"Positive\"}\n",
    "predicted_labels = [label_map[pred] for pred in predictions]\n",
    "\n",
    "print(predicted_labels)\n"
   ]
  }
 ],
 "metadata": {
  "kernelspec": {
   "display_name": "gpu_env",
   "language": "python",
   "name": "python3"
  },
  "language_info": {
   "codemirror_mode": {
    "name": "ipython",
    "version": 3
   },
   "file_extension": ".py",
   "mimetype": "text/x-python",
   "name": "python",
   "nbconvert_exporter": "python",
   "pygments_lexer": "ipython3",
   "version": "3.7.16"
  }
 },
 "nbformat": 4,
 "nbformat_minor": 2
}
